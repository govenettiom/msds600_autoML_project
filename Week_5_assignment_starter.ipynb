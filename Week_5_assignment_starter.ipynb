{
 "cells": [
  {
   "cell_type": "markdown",
   "id": "165166dd",
   "metadata": {},
   "source": [
    "# DS Automation Assignment"
   ]
  },
  {
   "cell_type": "markdown",
   "id": "c195af74",
   "metadata": {},
   "source": [
    "Using our prepared churn data from week 2:\n",
    "- use pycaret to find an ML algorithm that performs best on the data\n",
    "    - Choose a metric you think is best to use for finding the best model; by default, it is accuracy but it could be AUC, precision, recall, etc. The week 3 FTE has some information on these different metrics.\n",
    "- save the model to disk\n",
    "- create a Python script/file/module with a function that takes a pandas dataframe as an input and returns the probability of churn for each row in the dataframe\n",
    "    - your Python file/function should print out the predictions for new data (new_churn_data.csv)\n",
    "    - the true values for the new data are [1, 0, 0, 1, 0] if you're interested\n",
    "- test your Python module and function with the new data, new_churn_data.csv\n",
    "- write a short summary of the process and results at the end of this notebook\n",
    "- upload this Jupyter Notebook and Python file to a Github repository, and turn in a link to the repository in the week 5 assignment dropbox\n",
    "\n",
    "*Optional* challenges:\n",
    "- return the probability of churn for each new prediction, and the percentile where that prediction is in the distribution of probability predictions from the training dataset (e.g. a high probability of churn like 0.78 might be at the 90th percentile)\n",
    "- use other autoML packages, such as TPOT, H2O, MLBox, etc, and compare performance and features with pycaret\n",
    "- create a class in your Python module to hold the functions that you created\n",
    "- accept user input to specify a file using a tool such as Python's `input()` function, the `click` package for command-line arguments, or a GUI\n",
    "- Use the unmodified churn data (new_unmodified_churn_data.csv) in your Python script. This will require adding the same preprocessing steps from week 2 since this data is like the original unmodified dataset from week 1."
   ]
  },
  {
   "cell_type": "code",
   "execution_count": 1,
   "id": "476ed965",
   "metadata": {
    "tags": []
   },
   "outputs": [
    {
     "data": {
      "text/html": [
       "<div>\n",
       "<style scoped>\n",
       "    .dataframe tbody tr th:only-of-type {\n",
       "        vertical-align: middle;\n",
       "    }\n",
       "\n",
       "    .dataframe tbody tr th {\n",
       "        vertical-align: top;\n",
       "    }\n",
       "\n",
       "    .dataframe thead th {\n",
       "        text-align: right;\n",
       "    }\n",
       "</style>\n",
       "<table border=\"1\" class=\"dataframe\">\n",
       "  <thead>\n",
       "    <tr style=\"text-align: right;\">\n",
       "      <th></th>\n",
       "      <th>tenure</th>\n",
       "      <th>PhoneService</th>\n",
       "      <th>Contract</th>\n",
       "      <th>PaymentMethod</th>\n",
       "      <th>MonthlyCharges</th>\n",
       "      <th>TotalCharges</th>\n",
       "      <th>Churn</th>\n",
       "    </tr>\n",
       "    <tr>\n",
       "      <th>customerID</th>\n",
       "      <th></th>\n",
       "      <th></th>\n",
       "      <th></th>\n",
       "      <th></th>\n",
       "      <th></th>\n",
       "      <th></th>\n",
       "      <th></th>\n",
       "    </tr>\n",
       "  </thead>\n",
       "  <tbody>\n",
       "    <tr>\n",
       "      <th>7590-VHVEG</th>\n",
       "      <td>1</td>\n",
       "      <td>No</td>\n",
       "      <td>Month-to-month</td>\n",
       "      <td>Electronic check</td>\n",
       "      <td>29.85</td>\n",
       "      <td>29.85</td>\n",
       "      <td>No</td>\n",
       "    </tr>\n",
       "    <tr>\n",
       "      <th>5575-GNVDE</th>\n",
       "      <td>34</td>\n",
       "      <td>Yes</td>\n",
       "      <td>One year</td>\n",
       "      <td>Mailed check</td>\n",
       "      <td>56.95</td>\n",
       "      <td>1889.50</td>\n",
       "      <td>No</td>\n",
       "    </tr>\n",
       "    <tr>\n",
       "      <th>3668-QPYBK</th>\n",
       "      <td>2</td>\n",
       "      <td>Yes</td>\n",
       "      <td>Month-to-month</td>\n",
       "      <td>Mailed check</td>\n",
       "      <td>53.85</td>\n",
       "      <td>108.15</td>\n",
       "      <td>Yes</td>\n",
       "    </tr>\n",
       "    <tr>\n",
       "      <th>7795-CFOCW</th>\n",
       "      <td>45</td>\n",
       "      <td>No</td>\n",
       "      <td>One year</td>\n",
       "      <td>Bank transfer (automatic)</td>\n",
       "      <td>42.30</td>\n",
       "      <td>1840.75</td>\n",
       "      <td>No</td>\n",
       "    </tr>\n",
       "    <tr>\n",
       "      <th>9237-HQITU</th>\n",
       "      <td>2</td>\n",
       "      <td>Yes</td>\n",
       "      <td>Month-to-month</td>\n",
       "      <td>Electronic check</td>\n",
       "      <td>70.70</td>\n",
       "      <td>151.65</td>\n",
       "      <td>Yes</td>\n",
       "    </tr>\n",
       "    <tr>\n",
       "      <th>...</th>\n",
       "      <td>...</td>\n",
       "      <td>...</td>\n",
       "      <td>...</td>\n",
       "      <td>...</td>\n",
       "      <td>...</td>\n",
       "      <td>...</td>\n",
       "      <td>...</td>\n",
       "    </tr>\n",
       "    <tr>\n",
       "      <th>6840-RESVB</th>\n",
       "      <td>24</td>\n",
       "      <td>Yes</td>\n",
       "      <td>One year</td>\n",
       "      <td>Mailed check</td>\n",
       "      <td>84.80</td>\n",
       "      <td>1990.50</td>\n",
       "      <td>No</td>\n",
       "    </tr>\n",
       "    <tr>\n",
       "      <th>2234-XADUH</th>\n",
       "      <td>72</td>\n",
       "      <td>Yes</td>\n",
       "      <td>One year</td>\n",
       "      <td>Credit card (automatic)</td>\n",
       "      <td>103.20</td>\n",
       "      <td>7362.90</td>\n",
       "      <td>No</td>\n",
       "    </tr>\n",
       "    <tr>\n",
       "      <th>4801-JZAZL</th>\n",
       "      <td>11</td>\n",
       "      <td>No</td>\n",
       "      <td>Month-to-month</td>\n",
       "      <td>Electronic check</td>\n",
       "      <td>29.60</td>\n",
       "      <td>346.45</td>\n",
       "      <td>No</td>\n",
       "    </tr>\n",
       "    <tr>\n",
       "      <th>8361-LTMKD</th>\n",
       "      <td>4</td>\n",
       "      <td>Yes</td>\n",
       "      <td>Month-to-month</td>\n",
       "      <td>Mailed check</td>\n",
       "      <td>74.40</td>\n",
       "      <td>306.60</td>\n",
       "      <td>Yes</td>\n",
       "    </tr>\n",
       "    <tr>\n",
       "      <th>3186-AJIEK</th>\n",
       "      <td>66</td>\n",
       "      <td>Yes</td>\n",
       "      <td>Two year</td>\n",
       "      <td>Bank transfer (automatic)</td>\n",
       "      <td>105.65</td>\n",
       "      <td>6844.50</td>\n",
       "      <td>No</td>\n",
       "    </tr>\n",
       "  </tbody>\n",
       "</table>\n",
       "<p>7043 rows × 7 columns</p>\n",
       "</div>"
      ],
      "text/plain": [
       "            tenure PhoneService        Contract              PaymentMethod  \\\n",
       "customerID                                                                   \n",
       "7590-VHVEG       1           No  Month-to-month           Electronic check   \n",
       "5575-GNVDE      34          Yes        One year               Mailed check   \n",
       "3668-QPYBK       2          Yes  Month-to-month               Mailed check   \n",
       "7795-CFOCW      45           No        One year  Bank transfer (automatic)   \n",
       "9237-HQITU       2          Yes  Month-to-month           Electronic check   \n",
       "...            ...          ...             ...                        ...   \n",
       "6840-RESVB      24          Yes        One year               Mailed check   \n",
       "2234-XADUH      72          Yes        One year    Credit card (automatic)   \n",
       "4801-JZAZL      11           No  Month-to-month           Electronic check   \n",
       "8361-LTMKD       4          Yes  Month-to-month               Mailed check   \n",
       "3186-AJIEK      66          Yes        Two year  Bank transfer (automatic)   \n",
       "\n",
       "            MonthlyCharges  TotalCharges Churn  \n",
       "customerID                                      \n",
       "7590-VHVEG           29.85         29.85    No  \n",
       "5575-GNVDE           56.95       1889.50    No  \n",
       "3668-QPYBK           53.85        108.15   Yes  \n",
       "7795-CFOCW           42.30       1840.75    No  \n",
       "9237-HQITU           70.70        151.65   Yes  \n",
       "...                    ...           ...   ...  \n",
       "6840-RESVB           84.80       1990.50    No  \n",
       "2234-XADUH          103.20       7362.90    No  \n",
       "4801-JZAZL           29.60        346.45    No  \n",
       "8361-LTMKD           74.40        306.60   Yes  \n",
       "3186-AJIEK          105.65       6844.50    No  \n",
       "\n",
       "[7043 rows x 7 columns]"
      ]
     },
     "execution_count": 1,
     "metadata": {},
     "output_type": "execute_result"
    }
   ],
   "source": [
    "import pandas as pd\n",
    "\n",
    "df = pd.read_csv('/Users/mackenziemcdermott/Desktop/SCHOOL/Intro to Data Science/Week 5/churn_data.csv', index_col='customerID')\n",
    "df"
   ]
  },
  {
   "cell_type": "code",
   "execution_count": 2,
   "id": "7b10f64d",
   "metadata": {
    "tags": []
   },
   "outputs": [],
   "source": [
    "from pycaret.classification import ClassificationExperiment #setup, compare_models, predict_model, save_model, load_model"
   ]
  },
  {
   "cell_type": "code",
   "execution_count": 3,
   "id": "826d9823",
   "metadata": {
    "tags": []
   },
   "outputs": [],
   "source": [
    "automl = ClassificationExperiment() #setup(df, target='Diabetes')"
   ]
  },
  {
   "cell_type": "code",
   "execution_count": 4,
   "id": "9fdd2e0a",
   "metadata": {},
   "outputs": [
    {
     "data": {
      "text/html": [
       "<style type=\"text/css\">\n",
       "#T_58c55_row12_col1 {\n",
       "  background-color: lightgreen;\n",
       "}\n",
       "</style>\n",
       "<table id=\"T_58c55\">\n",
       "  <thead>\n",
       "    <tr>\n",
       "      <th class=\"blank level0\" >&nbsp;</th>\n",
       "      <th id=\"T_58c55_level0_col0\" class=\"col_heading level0 col0\" >Description</th>\n",
       "      <th id=\"T_58c55_level0_col1\" class=\"col_heading level0 col1\" >Value</th>\n",
       "    </tr>\n",
       "  </thead>\n",
       "  <tbody>\n",
       "    <tr>\n",
       "      <th id=\"T_58c55_level0_row0\" class=\"row_heading level0 row0\" >0</th>\n",
       "      <td id=\"T_58c55_row0_col0\" class=\"data row0 col0\" >Session id</td>\n",
       "      <td id=\"T_58c55_row0_col1\" class=\"data row0 col1\" >1348</td>\n",
       "    </tr>\n",
       "    <tr>\n",
       "      <th id=\"T_58c55_level0_row1\" class=\"row_heading level0 row1\" >1</th>\n",
       "      <td id=\"T_58c55_row1_col0\" class=\"data row1 col0\" >Target</td>\n",
       "      <td id=\"T_58c55_row1_col1\" class=\"data row1 col1\" >Churn</td>\n",
       "    </tr>\n",
       "    <tr>\n",
       "      <th id=\"T_58c55_level0_row2\" class=\"row_heading level0 row2\" >2</th>\n",
       "      <td id=\"T_58c55_row2_col0\" class=\"data row2 col0\" >Target type</td>\n",
       "      <td id=\"T_58c55_row2_col1\" class=\"data row2 col1\" >Binary</td>\n",
       "    </tr>\n",
       "    <tr>\n",
       "      <th id=\"T_58c55_level0_row3\" class=\"row_heading level0 row3\" >3</th>\n",
       "      <td id=\"T_58c55_row3_col0\" class=\"data row3 col0\" >Target mapping</td>\n",
       "      <td id=\"T_58c55_row3_col1\" class=\"data row3 col1\" >No: 0, Yes: 1</td>\n",
       "    </tr>\n",
       "    <tr>\n",
       "      <th id=\"T_58c55_level0_row4\" class=\"row_heading level0 row4\" >4</th>\n",
       "      <td id=\"T_58c55_row4_col0\" class=\"data row4 col0\" >Original data shape</td>\n",
       "      <td id=\"T_58c55_row4_col1\" class=\"data row4 col1\" >(7043, 7)</td>\n",
       "    </tr>\n",
       "    <tr>\n",
       "      <th id=\"T_58c55_level0_row5\" class=\"row_heading level0 row5\" >5</th>\n",
       "      <td id=\"T_58c55_row5_col0\" class=\"data row5 col0\" >Transformed data shape</td>\n",
       "      <td id=\"T_58c55_row5_col1\" class=\"data row5 col1\" >(7043, 12)</td>\n",
       "    </tr>\n",
       "    <tr>\n",
       "      <th id=\"T_58c55_level0_row6\" class=\"row_heading level0 row6\" >6</th>\n",
       "      <td id=\"T_58c55_row6_col0\" class=\"data row6 col0\" >Transformed train set shape</td>\n",
       "      <td id=\"T_58c55_row6_col1\" class=\"data row6 col1\" >(4930, 12)</td>\n",
       "    </tr>\n",
       "    <tr>\n",
       "      <th id=\"T_58c55_level0_row7\" class=\"row_heading level0 row7\" >7</th>\n",
       "      <td id=\"T_58c55_row7_col0\" class=\"data row7 col0\" >Transformed test set shape</td>\n",
       "      <td id=\"T_58c55_row7_col1\" class=\"data row7 col1\" >(2113, 12)</td>\n",
       "    </tr>\n",
       "    <tr>\n",
       "      <th id=\"T_58c55_level0_row8\" class=\"row_heading level0 row8\" >8</th>\n",
       "      <td id=\"T_58c55_row8_col0\" class=\"data row8 col0\" >Ordinal features</td>\n",
       "      <td id=\"T_58c55_row8_col1\" class=\"data row8 col1\" >1</td>\n",
       "    </tr>\n",
       "    <tr>\n",
       "      <th id=\"T_58c55_level0_row9\" class=\"row_heading level0 row9\" >9</th>\n",
       "      <td id=\"T_58c55_row9_col0\" class=\"data row9 col0\" >Numeric features</td>\n",
       "      <td id=\"T_58c55_row9_col1\" class=\"data row9 col1\" >3</td>\n",
       "    </tr>\n",
       "    <tr>\n",
       "      <th id=\"T_58c55_level0_row10\" class=\"row_heading level0 row10\" >10</th>\n",
       "      <td id=\"T_58c55_row10_col0\" class=\"data row10 col0\" >Categorical features</td>\n",
       "      <td id=\"T_58c55_row10_col1\" class=\"data row10 col1\" >3</td>\n",
       "    </tr>\n",
       "    <tr>\n",
       "      <th id=\"T_58c55_level0_row11\" class=\"row_heading level0 row11\" >11</th>\n",
       "      <td id=\"T_58c55_row11_col0\" class=\"data row11 col0\" >Rows with missing values</td>\n",
       "      <td id=\"T_58c55_row11_col1\" class=\"data row11 col1\" >0.2%</td>\n",
       "    </tr>\n",
       "    <tr>\n",
       "      <th id=\"T_58c55_level0_row12\" class=\"row_heading level0 row12\" >12</th>\n",
       "      <td id=\"T_58c55_row12_col0\" class=\"data row12 col0\" >Preprocess</td>\n",
       "      <td id=\"T_58c55_row12_col1\" class=\"data row12 col1\" >True</td>\n",
       "    </tr>\n",
       "    <tr>\n",
       "      <th id=\"T_58c55_level0_row13\" class=\"row_heading level0 row13\" >13</th>\n",
       "      <td id=\"T_58c55_row13_col0\" class=\"data row13 col0\" >Imputation type</td>\n",
       "      <td id=\"T_58c55_row13_col1\" class=\"data row13 col1\" >simple</td>\n",
       "    </tr>\n",
       "    <tr>\n",
       "      <th id=\"T_58c55_level0_row14\" class=\"row_heading level0 row14\" >14</th>\n",
       "      <td id=\"T_58c55_row14_col0\" class=\"data row14 col0\" >Numeric imputation</td>\n",
       "      <td id=\"T_58c55_row14_col1\" class=\"data row14 col1\" >mean</td>\n",
       "    </tr>\n",
       "    <tr>\n",
       "      <th id=\"T_58c55_level0_row15\" class=\"row_heading level0 row15\" >15</th>\n",
       "      <td id=\"T_58c55_row15_col0\" class=\"data row15 col0\" >Categorical imputation</td>\n",
       "      <td id=\"T_58c55_row15_col1\" class=\"data row15 col1\" >mode</td>\n",
       "    </tr>\n",
       "    <tr>\n",
       "      <th id=\"T_58c55_level0_row16\" class=\"row_heading level0 row16\" >16</th>\n",
       "      <td id=\"T_58c55_row16_col0\" class=\"data row16 col0\" >Maximum one-hot encoding</td>\n",
       "      <td id=\"T_58c55_row16_col1\" class=\"data row16 col1\" >25</td>\n",
       "    </tr>\n",
       "    <tr>\n",
       "      <th id=\"T_58c55_level0_row17\" class=\"row_heading level0 row17\" >17</th>\n",
       "      <td id=\"T_58c55_row17_col0\" class=\"data row17 col0\" >Encoding method</td>\n",
       "      <td id=\"T_58c55_row17_col1\" class=\"data row17 col1\" >None</td>\n",
       "    </tr>\n",
       "    <tr>\n",
       "      <th id=\"T_58c55_level0_row18\" class=\"row_heading level0 row18\" >18</th>\n",
       "      <td id=\"T_58c55_row18_col0\" class=\"data row18 col0\" >Fold Generator</td>\n",
       "      <td id=\"T_58c55_row18_col1\" class=\"data row18 col1\" >StratifiedKFold</td>\n",
       "    </tr>\n",
       "    <tr>\n",
       "      <th id=\"T_58c55_level0_row19\" class=\"row_heading level0 row19\" >19</th>\n",
       "      <td id=\"T_58c55_row19_col0\" class=\"data row19 col0\" >Fold Number</td>\n",
       "      <td id=\"T_58c55_row19_col1\" class=\"data row19 col1\" >10</td>\n",
       "    </tr>\n",
       "    <tr>\n",
       "      <th id=\"T_58c55_level0_row20\" class=\"row_heading level0 row20\" >20</th>\n",
       "      <td id=\"T_58c55_row20_col0\" class=\"data row20 col0\" >CPU Jobs</td>\n",
       "      <td id=\"T_58c55_row20_col1\" class=\"data row20 col1\" >-1</td>\n",
       "    </tr>\n",
       "    <tr>\n",
       "      <th id=\"T_58c55_level0_row21\" class=\"row_heading level0 row21\" >21</th>\n",
       "      <td id=\"T_58c55_row21_col0\" class=\"data row21 col0\" >Use GPU</td>\n",
       "      <td id=\"T_58c55_row21_col1\" class=\"data row21 col1\" >False</td>\n",
       "    </tr>\n",
       "    <tr>\n",
       "      <th id=\"T_58c55_level0_row22\" class=\"row_heading level0 row22\" >22</th>\n",
       "      <td id=\"T_58c55_row22_col0\" class=\"data row22 col0\" >Log Experiment</td>\n",
       "      <td id=\"T_58c55_row22_col1\" class=\"data row22 col1\" >False</td>\n",
       "    </tr>\n",
       "    <tr>\n",
       "      <th id=\"T_58c55_level0_row23\" class=\"row_heading level0 row23\" >23</th>\n",
       "      <td id=\"T_58c55_row23_col0\" class=\"data row23 col0\" >Experiment Name</td>\n",
       "      <td id=\"T_58c55_row23_col1\" class=\"data row23 col1\" >clf-default-name</td>\n",
       "    </tr>\n",
       "    <tr>\n",
       "      <th id=\"T_58c55_level0_row24\" class=\"row_heading level0 row24\" >24</th>\n",
       "      <td id=\"T_58c55_row24_col0\" class=\"data row24 col0\" >USI</td>\n",
       "      <td id=\"T_58c55_row24_col1\" class=\"data row24 col1\" >4583</td>\n",
       "    </tr>\n",
       "  </tbody>\n",
       "</table>\n"
      ],
      "text/plain": [
       "<pandas.io.formats.style.Styler at 0x7f98ce925db0>"
      ]
     },
     "metadata": {},
     "output_type": "display_data"
    },
    {
     "data": {
      "text/plain": [
       "<pycaret.classification.oop.ClassificationExperiment at 0x7f98cd90f850>"
      ]
     },
     "execution_count": 4,
     "metadata": {},
     "output_type": "execute_result"
    }
   ],
   "source": [
    "automl.setup(df, target='Churn')"
   ]
  },
  {
   "cell_type": "code",
   "execution_count": 5,
   "id": "7c4ad1f6",
   "metadata": {},
   "outputs": [
    {
     "data": {
      "text/plain": [
       "<pycaret.classification.oop.ClassificationExperiment at 0x7f98cd90f850>"
      ]
     },
     "execution_count": 5,
     "metadata": {},
     "output_type": "execute_result"
    }
   ],
   "source": [
    "automl"
   ]
  },
  {
   "cell_type": "markdown",
   "id": "dd2172da-2d26-4e59-a857-115603edb067",
   "metadata": {},
   "source": [
    "Running autoML to find the best model."
   ]
  },
  {
   "cell_type": "code",
   "execution_count": 6,
   "id": "658fe257",
   "metadata": {},
   "outputs": [
    {
     "data": {
      "text/html": [],
      "text/plain": [
       "<IPython.core.display.HTML object>"
      ]
     },
     "metadata": {},
     "output_type": "display_data"
    },
    {
     "data": {
      "text/html": [
       "<style type=\"text/css\">\n",
       "#T_428de th {\n",
       "  text-align: left;\n",
       "}\n",
       "#T_428de_row0_col0, #T_428de_row0_col3, #T_428de_row0_col5, #T_428de_row0_col6, #T_428de_row0_col7, #T_428de_row1_col0, #T_428de_row1_col1, #T_428de_row1_col2, #T_428de_row1_col3, #T_428de_row1_col4, #T_428de_row1_col5, #T_428de_row2_col0, #T_428de_row2_col1, #T_428de_row2_col2, #T_428de_row2_col3, #T_428de_row2_col4, #T_428de_row2_col5, #T_428de_row2_col6, #T_428de_row2_col7, #T_428de_row3_col0, #T_428de_row3_col1, #T_428de_row3_col2, #T_428de_row3_col3, #T_428de_row3_col4, #T_428de_row3_col5, #T_428de_row3_col6, #T_428de_row3_col7, #T_428de_row4_col0, #T_428de_row4_col1, #T_428de_row4_col2, #T_428de_row4_col3, #T_428de_row4_col4, #T_428de_row4_col5, #T_428de_row4_col6, #T_428de_row4_col7, #T_428de_row5_col0, #T_428de_row5_col1, #T_428de_row5_col2, #T_428de_row5_col3, #T_428de_row5_col4, #T_428de_row5_col5, #T_428de_row5_col6, #T_428de_row5_col7, #T_428de_row6_col0, #T_428de_row6_col1, #T_428de_row6_col2, #T_428de_row6_col3, #T_428de_row6_col4, #T_428de_row6_col5, #T_428de_row6_col6, #T_428de_row6_col7, #T_428de_row7_col0, #T_428de_row7_col1, #T_428de_row7_col2, #T_428de_row7_col3, #T_428de_row7_col4, #T_428de_row7_col5, #T_428de_row7_col6, #T_428de_row7_col7, #T_428de_row8_col0, #T_428de_row8_col1, #T_428de_row8_col2, #T_428de_row8_col3, #T_428de_row8_col4, #T_428de_row8_col5, #T_428de_row8_col6, #T_428de_row8_col7, #T_428de_row9_col0, #T_428de_row9_col1, #T_428de_row9_col2, #T_428de_row9_col3, #T_428de_row9_col4, #T_428de_row9_col5, #T_428de_row9_col6, #T_428de_row9_col7, #T_428de_row10_col0, #T_428de_row10_col1, #T_428de_row10_col2, #T_428de_row10_col3, #T_428de_row10_col4, #T_428de_row10_col5, #T_428de_row10_col6, #T_428de_row10_col7, #T_428de_row11_col0, #T_428de_row11_col1, #T_428de_row11_col2, #T_428de_row11_col4, #T_428de_row11_col6, #T_428de_row11_col7, #T_428de_row12_col0, #T_428de_row12_col1, #T_428de_row12_col2, #T_428de_row12_col3, #T_428de_row12_col4, #T_428de_row12_col5, #T_428de_row12_col6, #T_428de_row12_col7, #T_428de_row13_col0, #T_428de_row13_col1, #T_428de_row13_col2, #T_428de_row13_col3, #T_428de_row13_col4, #T_428de_row13_col5, #T_428de_row13_col6, #T_428de_row13_col7 {\n",
       "  text-align: left;\n",
       "}\n",
       "#T_428de_row0_col1, #T_428de_row0_col2, #T_428de_row0_col4, #T_428de_row1_col6, #T_428de_row1_col7, #T_428de_row11_col3, #T_428de_row11_col5 {\n",
       "  text-align: left;\n",
       "  background-color: yellow;\n",
       "}\n",
       "#T_428de_row0_col8, #T_428de_row1_col8, #T_428de_row2_col8, #T_428de_row3_col8, #T_428de_row4_col8, #T_428de_row5_col8, #T_428de_row6_col8, #T_428de_row7_col8, #T_428de_row8_col8, #T_428de_row10_col8, #T_428de_row11_col8, #T_428de_row12_col8, #T_428de_row13_col8 {\n",
       "  text-align: left;\n",
       "  background-color: lightgrey;\n",
       "}\n",
       "#T_428de_row9_col8 {\n",
       "  text-align: left;\n",
       "  background-color: yellow;\n",
       "  background-color: lightgrey;\n",
       "}\n",
       "</style>\n",
       "<table id=\"T_428de\">\n",
       "  <thead>\n",
       "    <tr>\n",
       "      <th class=\"blank level0\" >&nbsp;</th>\n",
       "      <th id=\"T_428de_level0_col0\" class=\"col_heading level0 col0\" >Model</th>\n",
       "      <th id=\"T_428de_level0_col1\" class=\"col_heading level0 col1\" >Accuracy</th>\n",
       "      <th id=\"T_428de_level0_col2\" class=\"col_heading level0 col2\" >AUC</th>\n",
       "      <th id=\"T_428de_level0_col3\" class=\"col_heading level0 col3\" >Recall</th>\n",
       "      <th id=\"T_428de_level0_col4\" class=\"col_heading level0 col4\" >Prec.</th>\n",
       "      <th id=\"T_428de_level0_col5\" class=\"col_heading level0 col5\" >F1</th>\n",
       "      <th id=\"T_428de_level0_col6\" class=\"col_heading level0 col6\" >Kappa</th>\n",
       "      <th id=\"T_428de_level0_col7\" class=\"col_heading level0 col7\" >MCC</th>\n",
       "      <th id=\"T_428de_level0_col8\" class=\"col_heading level0 col8\" >TT (Sec)</th>\n",
       "    </tr>\n",
       "  </thead>\n",
       "  <tbody>\n",
       "    <tr>\n",
       "      <th id=\"T_428de_level0_row0\" class=\"row_heading level0 row0\" >gbc</th>\n",
       "      <td id=\"T_428de_row0_col0\" class=\"data row0 col0\" >Gradient Boosting Classifier</td>\n",
       "      <td id=\"T_428de_row0_col1\" class=\"data row0 col1\" >0.7961</td>\n",
       "      <td id=\"T_428de_row0_col2\" class=\"data row0 col2\" >0.8368</td>\n",
       "      <td id=\"T_428de_row0_col3\" class=\"data row0 col3\" >0.5015</td>\n",
       "      <td id=\"T_428de_row0_col4\" class=\"data row0 col4\" >0.6528</td>\n",
       "      <td id=\"T_428de_row0_col5\" class=\"data row0 col5\" >0.5663</td>\n",
       "      <td id=\"T_428de_row0_col6\" class=\"data row0 col6\" >0.4361</td>\n",
       "      <td id=\"T_428de_row0_col7\" class=\"data row0 col7\" >0.4432</td>\n",
       "      <td id=\"T_428de_row0_col8\" class=\"data row0 col8\" >0.3190</td>\n",
       "    </tr>\n",
       "    <tr>\n",
       "      <th id=\"T_428de_level0_row1\" class=\"row_heading level0 row1\" >ada</th>\n",
       "      <td id=\"T_428de_row1_col0\" class=\"data row1 col0\" >Ada Boost Classifier</td>\n",
       "      <td id=\"T_428de_row1_col1\" class=\"data row1 col1\" >0.7957</td>\n",
       "      <td id=\"T_428de_row1_col2\" class=\"data row1 col2\" >0.8356</td>\n",
       "      <td id=\"T_428de_row1_col3\" class=\"data row1 col3\" >0.5083</td>\n",
       "      <td id=\"T_428de_row1_col4\" class=\"data row1 col4\" >0.6480</td>\n",
       "      <td id=\"T_428de_row1_col5\" class=\"data row1 col5\" >0.5677</td>\n",
       "      <td id=\"T_428de_row1_col6\" class=\"data row1 col6\" >0.4370</td>\n",
       "      <td id=\"T_428de_row1_col7\" class=\"data row1 col7\" >0.4436</td>\n",
       "      <td id=\"T_428de_row1_col8\" class=\"data row1 col8\" >0.2720</td>\n",
       "    </tr>\n",
       "    <tr>\n",
       "      <th id=\"T_428de_level0_row2\" class=\"row_heading level0 row2\" >lr</th>\n",
       "      <td id=\"T_428de_row2_col0\" class=\"data row2 col0\" >Logistic Regression</td>\n",
       "      <td id=\"T_428de_row2_col1\" class=\"data row2 col1\" >0.7925</td>\n",
       "      <td id=\"T_428de_row2_col2\" class=\"data row2 col2\" >0.8339</td>\n",
       "      <td id=\"T_428de_row2_col3\" class=\"data row2 col3\" >0.5214</td>\n",
       "      <td id=\"T_428de_row2_col4\" class=\"data row2 col4\" >0.6350</td>\n",
       "      <td id=\"T_428de_row2_col5\" class=\"data row2 col5\" >0.5713</td>\n",
       "      <td id=\"T_428de_row2_col6\" class=\"data row2 col6\" >0.4363</td>\n",
       "      <td id=\"T_428de_row2_col7\" class=\"data row2 col7\" >0.4408</td>\n",
       "      <td id=\"T_428de_row2_col8\" class=\"data row2 col8\" >0.8240</td>\n",
       "    </tr>\n",
       "    <tr>\n",
       "      <th id=\"T_428de_level0_row3\" class=\"row_heading level0 row3\" >lda</th>\n",
       "      <td id=\"T_428de_row3_col0\" class=\"data row3 col0\" >Linear Discriminant Analysis</td>\n",
       "      <td id=\"T_428de_row3_col1\" class=\"data row3 col1\" >0.7899</td>\n",
       "      <td id=\"T_428de_row3_col2\" class=\"data row3 col2\" >0.8256</td>\n",
       "      <td id=\"T_428de_row3_col3\" class=\"data row3 col3\" >0.5268</td>\n",
       "      <td id=\"T_428de_row3_col4\" class=\"data row3 col4\" >0.6261</td>\n",
       "      <td id=\"T_428de_row3_col5\" class=\"data row3 col5\" >0.5709</td>\n",
       "      <td id=\"T_428de_row3_col6\" class=\"data row3 col6\" >0.4333</td>\n",
       "      <td id=\"T_428de_row3_col7\" class=\"data row3 col7\" >0.4369</td>\n",
       "      <td id=\"T_428de_row3_col8\" class=\"data row3 col8\" >0.1200</td>\n",
       "    </tr>\n",
       "    <tr>\n",
       "      <th id=\"T_428de_level0_row4\" class=\"row_heading level0 row4\" >ridge</th>\n",
       "      <td id=\"T_428de_row4_col0\" class=\"data row4 col0\" >Ridge Classifier</td>\n",
       "      <td id=\"T_428de_row4_col1\" class=\"data row4 col1\" >0.7874</td>\n",
       "      <td id=\"T_428de_row4_col2\" class=\"data row4 col2\" >0.0000</td>\n",
       "      <td id=\"T_428de_row4_col3\" class=\"data row4 col3\" >0.4549</td>\n",
       "      <td id=\"T_428de_row4_col4\" class=\"data row4 col4\" >0.6443</td>\n",
       "      <td id=\"T_428de_row4_col5\" class=\"data row4 col5\" >0.5320</td>\n",
       "      <td id=\"T_428de_row4_col6\" class=\"data row4 col6\" >0.3997</td>\n",
       "      <td id=\"T_428de_row4_col7\" class=\"data row4 col7\" >0.4107</td>\n",
       "      <td id=\"T_428de_row4_col8\" class=\"data row4 col8\" >0.1180</td>\n",
       "    </tr>\n",
       "    <tr>\n",
       "      <th id=\"T_428de_level0_row5\" class=\"row_heading level0 row5\" >lightgbm</th>\n",
       "      <td id=\"T_428de_row5_col0\" class=\"data row5 col0\" >Light Gradient Boosting Machine</td>\n",
       "      <td id=\"T_428de_row5_col1\" class=\"data row5 col1\" >0.7850</td>\n",
       "      <td id=\"T_428de_row5_col2\" class=\"data row5 col2\" >0.8243</td>\n",
       "      <td id=\"T_428de_row5_col3\" class=\"data row5 col3\" >0.5122</td>\n",
       "      <td id=\"T_428de_row5_col4\" class=\"data row5 col4\" >0.6152</td>\n",
       "      <td id=\"T_428de_row5_col5\" class=\"data row5 col5\" >0.5581</td>\n",
       "      <td id=\"T_428de_row5_col6\" class=\"data row5 col6\" >0.4178</td>\n",
       "      <td id=\"T_428de_row5_col7\" class=\"data row5 col7\" >0.4214</td>\n",
       "      <td id=\"T_428de_row5_col8\" class=\"data row5 col8\" >0.4270</td>\n",
       "    </tr>\n",
       "    <tr>\n",
       "      <th id=\"T_428de_level0_row6\" class=\"row_heading level0 row6\" >rf</th>\n",
       "      <td id=\"T_428de_row6_col0\" class=\"data row6 col0\" >Random Forest Classifier</td>\n",
       "      <td id=\"T_428de_row6_col1\" class=\"data row6 col1\" >0.7706</td>\n",
       "      <td id=\"T_428de_row6_col2\" class=\"data row6 col2\" >0.7914</td>\n",
       "      <td id=\"T_428de_row6_col3\" class=\"data row6 col3\" >0.4900</td>\n",
       "      <td id=\"T_428de_row6_col4\" class=\"data row6 col4\" >0.5811</td>\n",
       "      <td id=\"T_428de_row6_col5\" class=\"data row6 col5\" >0.5307</td>\n",
       "      <td id=\"T_428de_row6_col6\" class=\"data row6 col6\" >0.3806</td>\n",
       "      <td id=\"T_428de_row6_col7\" class=\"data row6 col7\" >0.3836</td>\n",
       "      <td id=\"T_428de_row6_col8\" class=\"data row6 col8\" >0.3950</td>\n",
       "    </tr>\n",
       "    <tr>\n",
       "      <th id=\"T_428de_level0_row7\" class=\"row_heading level0 row7\" >knn</th>\n",
       "      <td id=\"T_428de_row7_col0\" class=\"data row7 col0\" >K Neighbors Classifier</td>\n",
       "      <td id=\"T_428de_row7_col1\" class=\"data row7 col1\" >0.7592</td>\n",
       "      <td id=\"T_428de_row7_col2\" class=\"data row7 col2\" >0.7405</td>\n",
       "      <td id=\"T_428de_row7_col3\" class=\"data row7 col3\" >0.4289</td>\n",
       "      <td id=\"T_428de_row7_col4\" class=\"data row7 col4\" >0.5648</td>\n",
       "      <td id=\"T_428de_row7_col5\" class=\"data row7 col5\" >0.4858</td>\n",
       "      <td id=\"T_428de_row7_col6\" class=\"data row7 col6\" >0.3327</td>\n",
       "      <td id=\"T_428de_row7_col7\" class=\"data row7 col7\" >0.3391</td>\n",
       "      <td id=\"T_428de_row7_col8\" class=\"data row7 col8\" >0.1230</td>\n",
       "    </tr>\n",
       "    <tr>\n",
       "      <th id=\"T_428de_level0_row8\" class=\"row_heading level0 row8\" >et</th>\n",
       "      <td id=\"T_428de_row8_col0\" class=\"data row8 col0\" >Extra Trees Classifier</td>\n",
       "      <td id=\"T_428de_row8_col1\" class=\"data row8 col1\" >0.7554</td>\n",
       "      <td id=\"T_428de_row8_col2\" class=\"data row8 col2\" >0.7725</td>\n",
       "      <td id=\"T_428de_row8_col3\" class=\"data row8 col3\" >0.4809</td>\n",
       "      <td id=\"T_428de_row8_col4\" class=\"data row8 col4\" >0.5444</td>\n",
       "      <td id=\"T_428de_row8_col5\" class=\"data row8 col5\" >0.5099</td>\n",
       "      <td id=\"T_428de_row8_col6\" class=\"data row8 col6\" >0.3480</td>\n",
       "      <td id=\"T_428de_row8_col7\" class=\"data row8 col7\" >0.3496</td>\n",
       "      <td id=\"T_428de_row8_col8\" class=\"data row8 col8\" >0.3800</td>\n",
       "    </tr>\n",
       "    <tr>\n",
       "      <th id=\"T_428de_level0_row9\" class=\"row_heading level0 row9\" >dummy</th>\n",
       "      <td id=\"T_428de_row9_col0\" class=\"data row9 col0\" >Dummy Classifier</td>\n",
       "      <td id=\"T_428de_row9_col1\" class=\"data row9 col1\" >0.7347</td>\n",
       "      <td id=\"T_428de_row9_col2\" class=\"data row9 col2\" >0.5000</td>\n",
       "      <td id=\"T_428de_row9_col3\" class=\"data row9 col3\" >0.0000</td>\n",
       "      <td id=\"T_428de_row9_col4\" class=\"data row9 col4\" >0.0000</td>\n",
       "      <td id=\"T_428de_row9_col5\" class=\"data row9 col5\" >0.0000</td>\n",
       "      <td id=\"T_428de_row9_col6\" class=\"data row9 col6\" >0.0000</td>\n",
       "      <td id=\"T_428de_row9_col7\" class=\"data row9 col7\" >0.0000</td>\n",
       "      <td id=\"T_428de_row9_col8\" class=\"data row9 col8\" >0.1060</td>\n",
       "    </tr>\n",
       "    <tr>\n",
       "      <th id=\"T_428de_level0_row10\" class=\"row_heading level0 row10\" >dt</th>\n",
       "      <td id=\"T_428de_row10_col0\" class=\"data row10 col0\" >Decision Tree Classifier</td>\n",
       "      <td id=\"T_428de_row10_col1\" class=\"data row10 col1\" >0.7209</td>\n",
       "      <td id=\"T_428de_row10_col2\" class=\"data row10 col2\" >0.6502</td>\n",
       "      <td id=\"T_428de_row10_col3\" class=\"data row10 col3\" >0.4824</td>\n",
       "      <td id=\"T_428de_row10_col4\" class=\"data row10 col4\" >0.4758</td>\n",
       "      <td id=\"T_428de_row10_col5\" class=\"data row10 col5\" >0.4782</td>\n",
       "      <td id=\"T_428de_row10_col6\" class=\"data row10 col6\" >0.2880</td>\n",
       "      <td id=\"T_428de_row10_col7\" class=\"data row10 col7\" >0.2885</td>\n",
       "      <td id=\"T_428de_row10_col8\" class=\"data row10 col8\" >0.1130</td>\n",
       "    </tr>\n",
       "    <tr>\n",
       "      <th id=\"T_428de_level0_row11\" class=\"row_heading level0 row11\" >nb</th>\n",
       "      <td id=\"T_428de_row11_col0\" class=\"data row11 col0\" >Naive Bayes</td>\n",
       "      <td id=\"T_428de_row11_col1\" class=\"data row11 col1\" >0.6909</td>\n",
       "      <td id=\"T_428de_row11_col2\" class=\"data row11 col2\" >0.8104</td>\n",
       "      <td id=\"T_428de_row11_col3\" class=\"data row11 col3\" >0.8410</td>\n",
       "      <td id=\"T_428de_row11_col4\" class=\"data row11 col4\" >0.4562</td>\n",
       "      <td id=\"T_428de_row11_col5\" class=\"data row11 col5\" >0.5912</td>\n",
       "      <td id=\"T_428de_row11_col6\" class=\"data row11 col6\" >0.3765</td>\n",
       "      <td id=\"T_428de_row11_col7\" class=\"data row11 col7\" >0.4224</td>\n",
       "      <td id=\"T_428de_row11_col8\" class=\"data row11 col8\" >0.1200</td>\n",
       "    </tr>\n",
       "    <tr>\n",
       "      <th id=\"T_428de_level0_row12\" class=\"row_heading level0 row12\" >svm</th>\n",
       "      <td id=\"T_428de_row12_col0\" class=\"data row12 col0\" >SVM - Linear Kernel</td>\n",
       "      <td id=\"T_428de_row12_col1\" class=\"data row12 col1\" >0.6738</td>\n",
       "      <td id=\"T_428de_row12_col2\" class=\"data row12 col2\" >0.0000</td>\n",
       "      <td id=\"T_428de_row12_col3\" class=\"data row12 col3\" >0.5708</td>\n",
       "      <td id=\"T_428de_row12_col4\" class=\"data row12 col4\" >0.5082</td>\n",
       "      <td id=\"T_428de_row12_col5\" class=\"data row12 col5\" >0.4730</td>\n",
       "      <td id=\"T_428de_row12_col6\" class=\"data row12 col6\" >0.2736</td>\n",
       "      <td id=\"T_428de_row12_col7\" class=\"data row12 col7\" >0.3077</td>\n",
       "      <td id=\"T_428de_row12_col8\" class=\"data row12 col8\" >0.1260</td>\n",
       "    </tr>\n",
       "    <tr>\n",
       "      <th id=\"T_428de_level0_row13\" class=\"row_heading level0 row13\" >qda</th>\n",
       "      <td id=\"T_428de_row13_col0\" class=\"data row13 col0\" >Quadratic Discriminant Analysis</td>\n",
       "      <td id=\"T_428de_row13_col1\" class=\"data row13 col1\" >0.6505</td>\n",
       "      <td id=\"T_428de_row13_col2\" class=\"data row13 col2\" >0.6780</td>\n",
       "      <td id=\"T_428de_row13_col3\" class=\"data row13 col3\" >0.4587</td>\n",
       "      <td id=\"T_428de_row13_col4\" class=\"data row13 col4\" >0.4329</td>\n",
       "      <td id=\"T_428de_row13_col5\" class=\"data row13 col5\" >0.3700</td>\n",
       "      <td id=\"T_428de_row13_col6\" class=\"data row13 col6\" >0.1737</td>\n",
       "      <td id=\"T_428de_row13_col7\" class=\"data row13 col7\" >0.2056</td>\n",
       "      <td id=\"T_428de_row13_col8\" class=\"data row13 col8\" >0.1450</td>\n",
       "    </tr>\n",
       "  </tbody>\n",
       "</table>\n"
      ],
      "text/plain": [
       "<pandas.io.formats.style.Styler at 0x7f98c8016c80>"
      ]
     },
     "metadata": {},
     "output_type": "display_data"
    },
    {
     "data": {
      "text/html": [],
      "text/plain": [
       "<IPython.core.display.HTML object>"
      ]
     },
     "metadata": {},
     "output_type": "display_data"
    }
   ],
   "source": [
    "best_model = automl.compare_models()"
   ]
  },
  {
   "cell_type": "markdown",
   "id": "4863f204-a12c-4011-8683-d1c17e913094",
   "metadata": {},
   "source": [
    "gbc is the best accuracy"
   ]
  },
  {
   "cell_type": "code",
   "execution_count": 7,
   "id": "e730d8f1",
   "metadata": {},
   "outputs": [
    {
     "data": {
      "text/html": [
       "<style>#sk-container-id-1 {color: black;background-color: white;}#sk-container-id-1 pre{padding: 0;}#sk-container-id-1 div.sk-toggleable {background-color: white;}#sk-container-id-1 label.sk-toggleable__label {cursor: pointer;display: block;width: 100%;margin-bottom: 0;padding: 0.3em;box-sizing: border-box;text-align: center;}#sk-container-id-1 label.sk-toggleable__label-arrow:before {content: \"▸\";float: left;margin-right: 0.25em;color: #696969;}#sk-container-id-1 label.sk-toggleable__label-arrow:hover:before {color: black;}#sk-container-id-1 div.sk-estimator:hover label.sk-toggleable__label-arrow:before {color: black;}#sk-container-id-1 div.sk-toggleable__content {max-height: 0;max-width: 0;overflow: hidden;text-align: left;background-color: #f0f8ff;}#sk-container-id-1 div.sk-toggleable__content pre {margin: 0.2em;color: black;border-radius: 0.25em;background-color: #f0f8ff;}#sk-container-id-1 input.sk-toggleable__control:checked~div.sk-toggleable__content {max-height: 200px;max-width: 100%;overflow: auto;}#sk-container-id-1 input.sk-toggleable__control:checked~label.sk-toggleable__label-arrow:before {content: \"▾\";}#sk-container-id-1 div.sk-estimator input.sk-toggleable__control:checked~label.sk-toggleable__label {background-color: #d4ebff;}#sk-container-id-1 div.sk-label input.sk-toggleable__control:checked~label.sk-toggleable__label {background-color: #d4ebff;}#sk-container-id-1 input.sk-hidden--visually {border: 0;clip: rect(1px 1px 1px 1px);clip: rect(1px, 1px, 1px, 1px);height: 1px;margin: -1px;overflow: hidden;padding: 0;position: absolute;width: 1px;}#sk-container-id-1 div.sk-estimator {font-family: monospace;background-color: #f0f8ff;border: 1px dotted black;border-radius: 0.25em;box-sizing: border-box;margin-bottom: 0.5em;}#sk-container-id-1 div.sk-estimator:hover {background-color: #d4ebff;}#sk-container-id-1 div.sk-parallel-item::after {content: \"\";width: 100%;border-bottom: 1px solid gray;flex-grow: 1;}#sk-container-id-1 div.sk-label:hover label.sk-toggleable__label {background-color: #d4ebff;}#sk-container-id-1 div.sk-serial::before {content: \"\";position: absolute;border-left: 1px solid gray;box-sizing: border-box;top: 0;bottom: 0;left: 50%;z-index: 0;}#sk-container-id-1 div.sk-serial {display: flex;flex-direction: column;align-items: center;background-color: white;padding-right: 0.2em;padding-left: 0.2em;position: relative;}#sk-container-id-1 div.sk-item {position: relative;z-index: 1;}#sk-container-id-1 div.sk-parallel {display: flex;align-items: stretch;justify-content: center;background-color: white;position: relative;}#sk-container-id-1 div.sk-item::before, #sk-container-id-1 div.sk-parallel-item::before {content: \"\";position: absolute;border-left: 1px solid gray;box-sizing: border-box;top: 0;bottom: 0;left: 50%;z-index: -1;}#sk-container-id-1 div.sk-parallel-item {display: flex;flex-direction: column;z-index: 1;position: relative;background-color: white;}#sk-container-id-1 div.sk-parallel-item:first-child::after {align-self: flex-end;width: 50%;}#sk-container-id-1 div.sk-parallel-item:last-child::after {align-self: flex-start;width: 50%;}#sk-container-id-1 div.sk-parallel-item:only-child::after {width: 0;}#sk-container-id-1 div.sk-dashed-wrapped {border: 1px dashed gray;margin: 0 0.4em 0.5em 0.4em;box-sizing: border-box;padding-bottom: 0.4em;background-color: white;}#sk-container-id-1 div.sk-label label {font-family: monospace;font-weight: bold;display: inline-block;line-height: 1.2em;}#sk-container-id-1 div.sk-label-container {text-align: center;}#sk-container-id-1 div.sk-container {/* jupyter's `normalize.less` sets `[hidden] { display: none; }` but bootstrap.min.css set `[hidden] { display: none !important; }` so we also need the `!important` here to be able to override the default hidden behavior on the sphinx rendered scikit-learn.org. See: https://github.com/scikit-learn/scikit-learn/issues/21755 */display: inline-block !important;position: relative;}#sk-container-id-1 div.sk-text-repr-fallback {display: none;}</style><div id=\"sk-container-id-1\" class=\"sk-top-container\"><div class=\"sk-text-repr-fallback\"><pre>GradientBoostingClassifier(ccp_alpha=0.0, criterion=&#x27;friedman_mse&#x27;, init=None,\n",
       "                           learning_rate=0.1, loss=&#x27;log_loss&#x27;, max_depth=3,\n",
       "                           max_features=None, max_leaf_nodes=None,\n",
       "                           min_impurity_decrease=0.0, min_samples_leaf=1,\n",
       "                           min_samples_split=2, min_weight_fraction_leaf=0.0,\n",
       "                           n_estimators=100, n_iter_no_change=None,\n",
       "                           random_state=1348, subsample=1.0, tol=0.0001,\n",
       "                           validation_fraction=0.1, verbose=0,\n",
       "                           warm_start=False)</pre><b>In a Jupyter environment, please rerun this cell to show the HTML representation or trust the notebook. <br />On GitHub, the HTML representation is unable to render, please try loading this page with nbviewer.org.</b></div><div class=\"sk-container\" hidden><div class=\"sk-item\"><div class=\"sk-estimator sk-toggleable\"><input class=\"sk-toggleable__control sk-hidden--visually\" id=\"sk-estimator-id-1\" type=\"checkbox\" checked><label for=\"sk-estimator-id-1\" class=\"sk-toggleable__label sk-toggleable__label-arrow\">GradientBoostingClassifier</label><div class=\"sk-toggleable__content\"><pre>GradientBoostingClassifier(ccp_alpha=0.0, criterion=&#x27;friedman_mse&#x27;, init=None,\n",
       "                           learning_rate=0.1, loss=&#x27;log_loss&#x27;, max_depth=3,\n",
       "                           max_features=None, max_leaf_nodes=None,\n",
       "                           min_impurity_decrease=0.0, min_samples_leaf=1,\n",
       "                           min_samples_split=2, min_weight_fraction_leaf=0.0,\n",
       "                           n_estimators=100, n_iter_no_change=None,\n",
       "                           random_state=1348, subsample=1.0, tol=0.0001,\n",
       "                           validation_fraction=0.1, verbose=0,\n",
       "                           warm_start=False)</pre></div></div></div></div></div>"
      ],
      "text/plain": [
       "GradientBoostingClassifier(ccp_alpha=0.0, criterion='friedman_mse', init=None,\n",
       "                           learning_rate=0.1, loss='log_loss', max_depth=3,\n",
       "                           max_features=None, max_leaf_nodes=None,\n",
       "                           min_impurity_decrease=0.0, min_samples_leaf=1,\n",
       "                           min_samples_split=2, min_weight_fraction_leaf=0.0,\n",
       "                           n_estimators=100, n_iter_no_change=None,\n",
       "                           random_state=1348, subsample=1.0, tol=0.0001,\n",
       "                           validation_fraction=0.1, verbose=0,\n",
       "                           warm_start=False)"
      ]
     },
     "execution_count": 7,
     "metadata": {},
     "output_type": "execute_result"
    }
   ],
   "source": [
    "best_model"
   ]
  },
  {
   "cell_type": "markdown",
   "id": "5e6814ba-9518-468c-a7dc-2479dfbec789",
   "metadata": {},
   "source": [
    "I can now plot a variety of information about the best model"
   ]
  },
  {
   "cell_type": "code",
   "execution_count": 9,
   "id": "37432a55",
   "metadata": {},
   "outputs": [
    {
     "data": {
      "application/vnd.jupyter.widget-view+json": {
       "model_id": "4ec8e42fb8a74ebf9651577b0af3770c",
       "version_major": 2,
       "version_minor": 0
      },
      "text/plain": [
       "interactive(children=(ToggleButtons(description='Plot Type:', icons=('',), options=(('Pipeline Plot', 'pipelin…"
      ]
     },
     "metadata": {},
     "output_type": "display_data"
    }
   ],
   "source": [
    "automl.evaluate_model(best_model)"
   ]
  },
  {
   "cell_type": "code",
   "execution_count": 10,
   "id": "68173001",
   "metadata": {},
   "outputs": [
    {
     "data": {
      "text/html": [],
      "text/plain": [
       "<IPython.core.display.HTML object>"
      ]
     },
     "metadata": {},
     "output_type": "display_data"
    },
    {
     "data": {
      "image/png": "[encoded data removed]",
      "text/plain": [
       "<Figure size 800x550 with 1 Axes>"
      ]
     },
     "metadata": {},
     "output_type": "display_data"
    }
   ],
   "source": [
    "automl.plot_model(best_model)"
   ]
  },
  {
   "cell_type": "code",
   "execution_count": 11,
   "id": "6695cf0a",
   "metadata": {},
   "outputs": [
    {
     "data": {
      "text/html": [],
      "text/plain": [
       "<IPython.core.display.HTML object>"
      ]
     },
     "metadata": {},
     "output_type": "display_data"
    },
    {
     "data": {
      "image/png": "[encoded data removed]",
      "text/plain": [
       "<Figure size 800x550 with 1 Axes>"
      ]
     },
     "metadata": {},
     "output_type": "display_data"
    }
   ],
   "source": [
    "automl.plot_model(best_model, plot = 'confusion_matrix')"
   ]
  },
  {
   "cell_type": "code",
   "execution_count": 12,
   "id": "0fd91587",
   "metadata": {},
   "outputs": [
    {
     "data": {
      "text/plain": [
       "(1, 7)"
      ]
     },
     "execution_count": 12,
     "metadata": {},
     "output_type": "execute_result"
    }
   ],
   "source": [
    "df.iloc[-2:-1].shape"
   ]
  },
  {
   "cell_type": "code",
   "execution_count": 13,
   "id": "162c4d3a",
   "metadata": {},
   "outputs": [
    {
     "data": {
      "text/plain": [
       "(7,)"
      ]
     },
     "execution_count": 13,
     "metadata": {},
     "output_type": "execute_result"
    }
   ],
   "source": [
    "df.iloc[-2].shape"
   ]
  },
  {
   "cell_type": "code",
   "execution_count": 14,
   "id": "e0e2b44f",
   "metadata": {},
   "outputs": [
    {
     "data": {
      "text/html": [
       "<style type=\"text/css\">\n",
       "</style>\n",
       "<table id=\"T_1d0ce\">\n",
       "  <thead>\n",
       "    <tr>\n",
       "      <th class=\"blank level0\" >&nbsp;</th>\n",
       "      <th id=\"T_1d0ce_level0_col0\" class=\"col_heading level0 col0\" >Model</th>\n",
       "      <th id=\"T_1d0ce_level0_col1\" class=\"col_heading level0 col1\" >Accuracy</th>\n",
       "      <th id=\"T_1d0ce_level0_col2\" class=\"col_heading level0 col2\" >AUC</th>\n",
       "      <th id=\"T_1d0ce_level0_col3\" class=\"col_heading level0 col3\" >Recall</th>\n",
       "      <th id=\"T_1d0ce_level0_col4\" class=\"col_heading level0 col4\" >Prec.</th>\n",
       "      <th id=\"T_1d0ce_level0_col5\" class=\"col_heading level0 col5\" >F1</th>\n",
       "      <th id=\"T_1d0ce_level0_col6\" class=\"col_heading level0 col6\" >Kappa</th>\n",
       "      <th id=\"T_1d0ce_level0_col7\" class=\"col_heading level0 col7\" >MCC</th>\n",
       "    </tr>\n",
       "  </thead>\n",
       "  <tbody>\n",
       "    <tr>\n",
       "      <th id=\"T_1d0ce_level0_row0\" class=\"row_heading level0 row0\" >0</th>\n",
       "      <td id=\"T_1d0ce_row0_col0\" class=\"data row0 col0\" >Gradient Boosting Classifier</td>\n",
       "      <td id=\"T_1d0ce_row0_col1\" class=\"data row0 col1\" >1.0000</td>\n",
       "      <td id=\"T_1d0ce_row0_col2\" class=\"data row0 col2\" >0</td>\n",
       "      <td id=\"T_1d0ce_row0_col3\" class=\"data row0 col3\" >1.0000</td>\n",
       "      <td id=\"T_1d0ce_row0_col4\" class=\"data row0 col4\" >1.0000</td>\n",
       "      <td id=\"T_1d0ce_row0_col5\" class=\"data row0 col5\" >1.0000</td>\n",
       "      <td id=\"T_1d0ce_row0_col6\" class=\"data row0 col6\" >nan</td>\n",
       "      <td id=\"T_1d0ce_row0_col7\" class=\"data row0 col7\" >0.0000</td>\n",
       "    </tr>\n",
       "  </tbody>\n",
       "</table>\n"
      ],
      "text/plain": [
       "<pandas.io.formats.style.Styler at 0x7f98ceae25f0>"
      ]
     },
     "metadata": {},
     "output_type": "display_data"
    },
    {
     "data": {
      "text/html": [
       "<div>\n",
       "<style scoped>\n",
       "    .dataframe tbody tr th:only-of-type {\n",
       "        vertical-align: middle;\n",
       "    }\n",
       "\n",
       "    .dataframe tbody tr th {\n",
       "        vertical-align: top;\n",
       "    }\n",
       "\n",
       "    .dataframe thead th {\n",
       "        text-align: right;\n",
       "    }\n",
       "</style>\n",
       "<table border=\"1\" class=\"dataframe\">\n",
       "  <thead>\n",
       "    <tr style=\"text-align: right;\">\n",
       "      <th></th>\n",
       "      <th>tenure</th>\n",
       "      <th>PhoneService</th>\n",
       "      <th>Contract</th>\n",
       "      <th>PaymentMethod</th>\n",
       "      <th>MonthlyCharges</th>\n",
       "      <th>TotalCharges</th>\n",
       "      <th>Churn</th>\n",
       "      <th>prediction_label</th>\n",
       "      <th>prediction_score</th>\n",
       "    </tr>\n",
       "    <tr>\n",
       "      <th>customerID</th>\n",
       "      <th></th>\n",
       "      <th></th>\n",
       "      <th></th>\n",
       "      <th></th>\n",
       "      <th></th>\n",
       "      <th></th>\n",
       "      <th></th>\n",
       "      <th></th>\n",
       "      <th></th>\n",
       "    </tr>\n",
       "  </thead>\n",
       "  <tbody>\n",
       "    <tr>\n",
       "      <th>8361-LTMKD</th>\n",
       "      <td>4</td>\n",
       "      <td>Yes</td>\n",
       "      <td>Month-to-month</td>\n",
       "      <td>Mailed check</td>\n",
       "      <td>74.400002</td>\n",
       "      <td>306.600006</td>\n",
       "      <td>1</td>\n",
       "      <td>Yes</td>\n",
       "      <td>0.5621</td>\n",
       "    </tr>\n",
       "  </tbody>\n",
       "</table>\n",
       "</div>"
      ],
      "text/plain": [
       "            tenure PhoneService        Contract PaymentMethod  MonthlyCharges  \\\n",
       "customerID                                                                      \n",
       "8361-LTMKD       4          Yes  Month-to-month  Mailed check       74.400002   \n",
       "\n",
       "            TotalCharges  Churn prediction_label  prediction_score  \n",
       "customerID                                                          \n",
       "8361-LTMKD    306.600006      1              Yes            0.5621  "
      ]
     },
     "execution_count": 14,
     "metadata": {},
     "output_type": "execute_result"
    }
   ],
   "source": [
    "automl.predict_model(best_model, df.iloc[-2:-1])"
   ]
  },
  {
   "cell_type": "markdown",
   "id": "883661cb-b0bb-4537-84e9-77928a8c0d9b",
   "metadata": {},
   "source": [
    "This creates two new columns, prediction_label and prediction_score. "
   ]
  },
  {
   "cell_type": "code",
   "execution_count": 15,
   "id": "c21609ef",
   "metadata": {},
   "outputs": [
    {
     "data": {
      "text/html": [
       "<style type=\"text/css\">\n",
       "</style>\n",
       "<table id=\"T_2876f\">\n",
       "  <thead>\n",
       "    <tr>\n",
       "      <th class=\"blank level0\" >&nbsp;</th>\n",
       "      <th id=\"T_2876f_level0_col0\" class=\"col_heading level0 col0\" >Model</th>\n",
       "      <th id=\"T_2876f_level0_col1\" class=\"col_heading level0 col1\" >Accuracy</th>\n",
       "      <th id=\"T_2876f_level0_col2\" class=\"col_heading level0 col2\" >AUC</th>\n",
       "      <th id=\"T_2876f_level0_col3\" class=\"col_heading level0 col3\" >Recall</th>\n",
       "      <th id=\"T_2876f_level0_col4\" class=\"col_heading level0 col4\" >Prec.</th>\n",
       "      <th id=\"T_2876f_level0_col5\" class=\"col_heading level0 col5\" >F1</th>\n",
       "      <th id=\"T_2876f_level0_col6\" class=\"col_heading level0 col6\" >Kappa</th>\n",
       "      <th id=\"T_2876f_level0_col7\" class=\"col_heading level0 col7\" >MCC</th>\n",
       "    </tr>\n",
       "  </thead>\n",
       "  <tbody>\n",
       "    <tr>\n",
       "      <th id=\"T_2876f_level0_row0\" class=\"row_heading level0 row0\" >0</th>\n",
       "      <td id=\"T_2876f_row0_col0\" class=\"data row0 col0\" >Gradient Boosting Classifier</td>\n",
       "      <td id=\"T_2876f_row0_col1\" class=\"data row0 col1\" >0.8124</td>\n",
       "      <td id=\"T_2876f_row0_col2\" class=\"data row0 col2\" >0.8644</td>\n",
       "      <td id=\"T_2876f_row0_col3\" class=\"data row0 col3\" >0.8124</td>\n",
       "      <td id=\"T_2876f_row0_col4\" class=\"data row0 col4\" >0.8032</td>\n",
       "      <td id=\"T_2876f_row0_col5\" class=\"data row0 col5\" >0.8042</td>\n",
       "      <td id=\"T_2876f_row0_col6\" class=\"data row0 col6\" >0.4817</td>\n",
       "      <td id=\"T_2876f_row0_col7\" class=\"data row0 col7\" >0.4884</td>\n",
       "    </tr>\n",
       "  </tbody>\n",
       "</table>\n"
      ],
      "text/plain": [
       "<pandas.io.formats.style.Styler at 0x7f98ceae3ee0>"
      ]
     },
     "metadata": {},
     "output_type": "display_data"
    }
   ],
   "source": [
    "predictions = automl.predict_model(best_model, data=df)"
   ]
  },
  {
   "cell_type": "code",
   "execution_count": 16,
   "id": "a047f038",
   "metadata": {},
   "outputs": [
    {
     "data": {
      "text/html": [
       "<div>\n",
       "<style scoped>\n",
       "    .dataframe tbody tr th:only-of-type {\n",
       "        vertical-align: middle;\n",
       "    }\n",
       "\n",
       "    .dataframe tbody tr th {\n",
       "        vertical-align: top;\n",
       "    }\n",
       "\n",
       "    .dataframe thead th {\n",
       "        text-align: right;\n",
       "    }\n",
       "</style>\n",
       "<table border=\"1\" class=\"dataframe\">\n",
       "  <thead>\n",
       "    <tr style=\"text-align: right;\">\n",
       "      <th></th>\n",
       "      <th>tenure</th>\n",
       "      <th>PhoneService</th>\n",
       "      <th>Contract</th>\n",
       "      <th>PaymentMethod</th>\n",
       "      <th>MonthlyCharges</th>\n",
       "      <th>TotalCharges</th>\n",
       "      <th>Churn</th>\n",
       "      <th>prediction_label</th>\n",
       "      <th>prediction_score</th>\n",
       "    </tr>\n",
       "    <tr>\n",
       "      <th>customerID</th>\n",
       "      <th></th>\n",
       "      <th></th>\n",
       "      <th></th>\n",
       "      <th></th>\n",
       "      <th></th>\n",
       "      <th></th>\n",
       "      <th></th>\n",
       "      <th></th>\n",
       "      <th></th>\n",
       "    </tr>\n",
       "  </thead>\n",
       "  <tbody>\n",
       "    <tr>\n",
       "      <th>7590-VHVEG</th>\n",
       "      <td>1</td>\n",
       "      <td>No</td>\n",
       "      <td>Month-to-month</td>\n",
       "      <td>Electronic check</td>\n",
       "      <td>29.850000</td>\n",
       "      <td>29.850000</td>\n",
       "      <td>0</td>\n",
       "      <td>Yes</td>\n",
       "      <td>0.8403</td>\n",
       "    </tr>\n",
       "    <tr>\n",
       "      <th>5575-GNVDE</th>\n",
       "      <td>34</td>\n",
       "      <td>Yes</td>\n",
       "      <td>One year</td>\n",
       "      <td>Mailed check</td>\n",
       "      <td>56.950001</td>\n",
       "      <td>1889.500000</td>\n",
       "      <td>0</td>\n",
       "      <td>No</td>\n",
       "      <td>0.9454</td>\n",
       "    </tr>\n",
       "    <tr>\n",
       "      <th>3668-QPYBK</th>\n",
       "      <td>2</td>\n",
       "      <td>Yes</td>\n",
       "      <td>Month-to-month</td>\n",
       "      <td>Mailed check</td>\n",
       "      <td>53.849998</td>\n",
       "      <td>108.150002</td>\n",
       "      <td>1</td>\n",
       "      <td>No</td>\n",
       "      <td>0.5985</td>\n",
       "    </tr>\n",
       "    <tr>\n",
       "      <th>7795-CFOCW</th>\n",
       "      <td>45</td>\n",
       "      <td>No</td>\n",
       "      <td>One year</td>\n",
       "      <td>Bank transfer (automatic)</td>\n",
       "      <td>42.299999</td>\n",
       "      <td>1840.750000</td>\n",
       "      <td>0</td>\n",
       "      <td>No</td>\n",
       "      <td>0.9053</td>\n",
       "    </tr>\n",
       "    <tr>\n",
       "      <th>9237-HQITU</th>\n",
       "      <td>2</td>\n",
       "      <td>Yes</td>\n",
       "      <td>Month-to-month</td>\n",
       "      <td>Electronic check</td>\n",
       "      <td>70.699997</td>\n",
       "      <td>151.649994</td>\n",
       "      <td>1</td>\n",
       "      <td>Yes</td>\n",
       "      <td>0.5618</td>\n",
       "    </tr>\n",
       "  </tbody>\n",
       "</table>\n",
       "</div>"
      ],
      "text/plain": [
       "            tenure PhoneService        Contract              PaymentMethod  \\\n",
       "customerID                                                                   \n",
       "7590-VHVEG       1           No  Month-to-month           Electronic check   \n",
       "5575-GNVDE      34          Yes        One year               Mailed check   \n",
       "3668-QPYBK       2          Yes  Month-to-month               Mailed check   \n",
       "7795-CFOCW      45           No        One year  Bank transfer (automatic)   \n",
       "9237-HQITU       2          Yes  Month-to-month           Electronic check   \n",
       "\n",
       "            MonthlyCharges  TotalCharges  Churn prediction_label  \\\n",
       "customerID                                                         \n",
       "7590-VHVEG       29.850000     29.850000      0              Yes   \n",
       "5575-GNVDE       56.950001   1889.500000      0               No   \n",
       "3668-QPYBK       53.849998    108.150002      1               No   \n",
       "7795-CFOCW       42.299999   1840.750000      0               No   \n",
       "9237-HQITU       70.699997    151.649994      1              Yes   \n",
       "\n",
       "            prediction_score  \n",
       "customerID                    \n",
       "7590-VHVEG            0.8403  \n",
       "5575-GNVDE            0.9454  \n",
       "3668-QPYBK            0.5985  \n",
       "7795-CFOCW            0.9053  \n",
       "9237-HQITU            0.5618  "
      ]
     },
     "execution_count": 16,
     "metadata": {},
     "output_type": "execute_result"
    }
   ],
   "source": [
    "predictions.head()"
   ]
  },
  {
   "cell_type": "code",
   "execution_count": 17,
   "id": "182be1da",
   "metadata": {},
   "outputs": [
    {
     "name": "stdout",
     "output_type": "stream",
     "text": [
      "Transformation Pipeline and Model Successfully Saved\n"
     ]
    },
    {
     "data": {
      "text/plain": [
       "(Pipeline(memory=Memory(location=None),\n",
       "          steps=[('label_encoding',\n",
       "                  TransformerWrapperWithInverse(exclude=None, include=None,\n",
       "                                                transformer=LabelEncoder())),\n",
       "                 ('numerical_imputer',\n",
       "                  TransformerWrapper(exclude=None,\n",
       "                                     include=['tenure', 'MonthlyCharges',\n",
       "                                              'TotalCharges'],\n",
       "                                     transformer=SimpleImputer(add_indicator=False,\n",
       "                                                               copy=True,\n",
       "                                                               fill_value=None,\n",
       "                                                               keep_empty_features=False,...\n",
       "                                             criterion='friedman_mse', init=None,\n",
       "                                             learning_rate=0.1, loss='log_loss',\n",
       "                                             max_depth=3, max_features=None,\n",
       "                                             max_leaf_nodes=None,\n",
       "                                             min_impurity_decrease=0.0,\n",
       "                                             min_samples_leaf=1,\n",
       "                                             min_samples_split=2,\n",
       "                                             min_weight_fraction_leaf=0.0,\n",
       "                                             n_estimators=100,\n",
       "                                             n_iter_no_change=None,\n",
       "                                             random_state=1348, subsample=1.0,\n",
       "                                             tol=0.0001, validation_fraction=0.1,\n",
       "                                             verbose=0, warm_start=False))],\n",
       "          verbose=False),\n",
       " 'pycaret_model.pkl')"
      ]
     },
     "execution_count": 17,
     "metadata": {},
     "output_type": "execute_result"
    }
   ],
   "source": [
    "automl.save_model(best_model, 'pycaret_model')"
   ]
  },
  {
   "cell_type": "code",
   "execution_count": 18,
   "id": "d3be2a15",
   "metadata": {},
   "outputs": [
    {
     "name": "stdout",
     "output_type": "stream",
     "text": [
      "Transformation Pipeline and Model Successfully Loaded\n"
     ]
    }
   ],
   "source": [
    "new_pycaret = ClassificationExperiment()\n",
    "loaded_model = new_pycaret.load_model('pycaret_model')"
   ]
  },
  {
   "cell_type": "code",
   "execution_count": 19,
   "id": "ef8327e6",
   "metadata": {},
   "outputs": [],
   "source": [
    "new_data = df.iloc[-2:-1]"
   ]
  },
  {
   "cell_type": "code",
   "execution_count": 20,
   "id": "b3552666",
   "metadata": {},
   "outputs": [
    {
     "data": {
      "text/html": [
       "<div>\n",
       "<style scoped>\n",
       "    .dataframe tbody tr th:only-of-type {\n",
       "        vertical-align: middle;\n",
       "    }\n",
       "\n",
       "    .dataframe tbody tr th {\n",
       "        vertical-align: top;\n",
       "    }\n",
       "\n",
       "    .dataframe thead th {\n",
       "        text-align: right;\n",
       "    }\n",
       "</style>\n",
       "<table border=\"1\" class=\"dataframe\">\n",
       "  <thead>\n",
       "    <tr style=\"text-align: right;\">\n",
       "      <th></th>\n",
       "      <th>tenure</th>\n",
       "      <th>PhoneService</th>\n",
       "      <th>Contract</th>\n",
       "      <th>PaymentMethod</th>\n",
       "      <th>MonthlyCharges</th>\n",
       "      <th>TotalCharges</th>\n",
       "      <th>Churn</th>\n",
       "      <th>prediction_label</th>\n",
       "      <th>prediction_score</th>\n",
       "    </tr>\n",
       "    <tr>\n",
       "      <th>customerID</th>\n",
       "      <th></th>\n",
       "      <th></th>\n",
       "      <th></th>\n",
       "      <th></th>\n",
       "      <th></th>\n",
       "      <th></th>\n",
       "      <th></th>\n",
       "      <th></th>\n",
       "      <th></th>\n",
       "    </tr>\n",
       "  </thead>\n",
       "  <tbody>\n",
       "    <tr>\n",
       "      <th>8361-LTMKD</th>\n",
       "      <td>4</td>\n",
       "      <td>Yes</td>\n",
       "      <td>Month-to-month</td>\n",
       "      <td>Mailed check</td>\n",
       "      <td>74.400002</td>\n",
       "      <td>306.600006</td>\n",
       "      <td>1</td>\n",
       "      <td>Yes</td>\n",
       "      <td>0.5621</td>\n",
       "    </tr>\n",
       "  </tbody>\n",
       "</table>\n",
       "</div>"
      ],
      "text/plain": [
       "            tenure PhoneService        Contract PaymentMethod  MonthlyCharges  \\\n",
       "customerID                                                                      \n",
       "8361-LTMKD       4          Yes  Month-to-month  Mailed check       74.400002   \n",
       "\n",
       "            TotalCharges  Churn prediction_label  prediction_score  \n",
       "customerID                                                          \n",
       "8361-LTMKD    306.600006      1              Yes            0.5621  "
      ]
     },
     "execution_count": 20,
     "metadata": {},
     "output_type": "execute_result"
    }
   ],
   "source": [
    "new_pycaret.predict_model(loaded_model, new_data)"
   ]
  },
  {
   "cell_type": "code",
   "execution_count": 21,
   "id": "43434862",
   "metadata": {},
   "outputs": [
    {
     "data": {
      "text/html": [
       "<style>pre { line-height: 125%; }\n",
       "td.linenos .normal { color: inherit; background-color: transparent; padding-left: 5px; padding-right: 5px; }\n",
       "span.linenos { color: inherit; background-color: transparent; padding-left: 5px; padding-right: 5px; }\n",
       "td.linenos .special { color: #000000; background-color: #ffffc0; padding-left: 5px; padding-right: 5px; }\n",
       "span.linenos.special { color: #000000; background-color: #ffffc0; padding-left: 5px; padding-right: 5px; }\n",
       ".output_html .hll { background-color: #ffffcc }\n",
       ".output_html { background: #f8f8f8; }\n",
       ".output_html .c { color: #3D7B7B; font-style: italic } /* Comment */\n",
       ".output_html .err { border: 1px solid #FF0000 } /* Error */\n",
       ".output_html .k { color: #008000; font-weight: bold } /* Keyword */\n",
       ".output_html .o { color: #666666 } /* Operator */\n",
       ".output_html .ch { color: #3D7B7B; font-style: italic } /* Comment.Hashbang */\n",
       ".output_html .cm { color: #3D7B7B; font-style: italic } /* Comment.Multiline */\n",
       ".output_html .cp { color: #9C6500 } /* Comment.Preproc */\n",
       ".output_html .cpf { color: #3D7B7B; font-style: italic } /* Comment.PreprocFile */\n",
       ".output_html .c1 { color: #3D7B7B; font-style: italic } /* Comment.Single */\n",
       ".output_html .cs { color: #3D7B7B; font-style: italic } /* Comment.Special */\n",
       ".output_html .gd { color: #A00000 } /* Generic.Deleted */\n",
       ".output_html .ge { font-style: italic } /* Generic.Emph */\n",
       ".output_html .gr { color: #E40000 } /* Generic.Error */\n",
       ".output_html .gh { color: #000080; font-weight: bold } /* Generic.Heading */\n",
       ".output_html .gi { color: #008400 } /* Generic.Inserted */\n",
       ".output_html .go { color: #717171 } /* Generic.Output */\n",
       ".output_html .gp { color: #000080; font-weight: bold } /* Generic.Prompt */\n",
       ".output_html .gs { font-weight: bold } /* Generic.Strong */\n",
       ".output_html .gu { color: #800080; font-weight: bold } /* Generic.Subheading */\n",
       ".output_html .gt { color: #0044DD } /* Generic.Traceback */\n",
       ".output_html .kc { color: #008000; font-weight: bold } /* Keyword.Constant */\n",
       ".output_html .kd { color: #008000; font-weight: bold } /* Keyword.Declaration */\n",
       ".output_html .kn { color: #008000; font-weight: bold } /* Keyword.Namespace */\n",
       ".output_html .kp { color: #008000 } /* Keyword.Pseudo */\n",
       ".output_html .kr { color: #008000; font-weight: bold } /* Keyword.Reserved */\n",
       ".output_html .kt { color: #B00040 } /* Keyword.Type */\n",
       ".output_html .m { color: #666666 } /* Literal.Number */\n",
       ".output_html .s { color: #BA2121 } /* Literal.String */\n",
       ".output_html .na { color: #687822 } /* Name.Attribute */\n",
       ".output_html .nb { color: #008000 } /* Name.Builtin */\n",
       ".output_html .nc { color: #0000FF; font-weight: bold } /* Name.Class */\n",
       ".output_html .no { color: #880000 } /* Name.Constant */\n",
       ".output_html .nd { color: #AA22FF } /* Name.Decorator */\n",
       ".output_html .ni { color: #717171; font-weight: bold } /* Name.Entity */\n",
       ".output_html .ne { color: #CB3F38; font-weight: bold } /* Name.Exception */\n",
       ".output_html .nf { color: #0000FF } /* Name.Function */\n",
       ".output_html .nl { color: #767600 } /* Name.Label */\n",
       ".output_html .nn { color: #0000FF; font-weight: bold } /* Name.Namespace */\n",
       ".output_html .nt { color: #008000; font-weight: bold } /* Name.Tag */\n",
       ".output_html .nv { color: #19177C } /* Name.Variable */\n",
       ".output_html .ow { color: #AA22FF; font-weight: bold } /* Operator.Word */\n",
       ".output_html .w { color: #bbbbbb } /* Text.Whitespace */\n",
       ".output_html .mb { color: #666666 } /* Literal.Number.Bin */\n",
       ".output_html .mf { color: #666666 } /* Literal.Number.Float */\n",
       ".output_html .mh { color: #666666 } /* Literal.Number.Hex */\n",
       ".output_html .mi { color: #666666 } /* Literal.Number.Integer */\n",
       ".output_html .mo { color: #666666 } /* Literal.Number.Oct */\n",
       ".output_html .sa { color: #BA2121 } /* Literal.String.Affix */\n",
       ".output_html .sb { color: #BA2121 } /* Literal.String.Backtick */\n",
       ".output_html .sc { color: #BA2121 } /* Literal.String.Char */\n",
       ".output_html .dl { color: #BA2121 } /* Literal.String.Delimiter */\n",
       ".output_html .sd { color: #BA2121; font-style: italic } /* Literal.String.Doc */\n",
       ".output_html .s2 { color: #BA2121 } /* Literal.String.Double */\n",
       ".output_html .se { color: #AA5D1F; font-weight: bold } /* Literal.String.Escape */\n",
       ".output_html .sh { color: #BA2121 } /* Literal.String.Heredoc */\n",
       ".output_html .si { color: #A45A77; font-weight: bold } /* Literal.String.Interpol */\n",
       ".output_html .sx { color: #008000 } /* Literal.String.Other */\n",
       ".output_html .sr { color: #A45A77 } /* Literal.String.Regex */\n",
       ".output_html .s1 { color: #BA2121 } /* Literal.String.Single */\n",
       ".output_html .ss { color: #19177C } /* Literal.String.Symbol */\n",
       ".output_html .bp { color: #008000 } /* Name.Builtin.Pseudo */\n",
       ".output_html .fm { color: #0000FF } /* Name.Function.Magic */\n",
       ".output_html .vc { color: #19177C } /* Name.Variable.Class */\n",
       ".output_html .vg { color: #19177C } /* Name.Variable.Global */\n",
       ".output_html .vi { color: #19177C } /* Name.Variable.Instance */\n",
       ".output_html .vm { color: #19177C } /* Name.Variable.Magic */\n",
       ".output_html .il { color: #666666 } /* Literal.Number.Integer.Long */</style><div class=\"highlight\"><pre><span></span><span class=\"kn\">import</span> <span class=\"nn\">pandas</span> <span class=\"k\">as</span> <span class=\"nn\">pd</span>\n",
       "<span class=\"kn\">from</span> <span class=\"nn\">pycaret.classification</span> <span class=\"kn\">import</span> <span class=\"n\">ClassificationExperiment</span>\n",
       "\n",
       "<span class=\"k\">def</span> <span class=\"nf\">load_data</span><span class=\"p\">(</span><span class=\"n\">filepath</span><span class=\"p\">):</span>\n",
       "<span class=\"w\">    </span><span class=\"sd\">&quot;&quot;&quot;</span>\n",
       "<span class=\"sd\">    Loads churn data into a DataFrame from a string filepath.</span>\n",
       "<span class=\"sd\">    &quot;&quot;&quot;</span>\n",
       "    <span class=\"n\">df</span> <span class=\"o\">=</span> <span class=\"n\">pd</span><span class=\"o\">.</span><span class=\"n\">read_csv</span><span class=\"p\">(</span><span class=\"n\">filepath</span><span class=\"p\">,</span> <span class=\"n\">index_col</span><span class=\"o\">=</span><span class=\"s1\">&#39;customerID&#39;</span><span class=\"p\">)</span>\n",
       "    <span class=\"k\">return</span> <span class=\"n\">df</span>\n",
       "\n",
       "\n",
       "<span class=\"k\">def</span> <span class=\"nf\">make_predictions</span><span class=\"p\">(</span><span class=\"n\">df</span><span class=\"p\">):</span>\n",
       "<span class=\"w\">    </span><span class=\"sd\">&quot;&quot;&quot;</span>\n",
       "<span class=\"sd\">    Uses the pycaret best model to make predictions on data in the df dataframe.</span>\n",
       "<span class=\"sd\">    &quot;&quot;&quot;</span>\n",
       "    <span class=\"n\">classifier</span> <span class=\"o\">=</span> <span class=\"n\">ClassificationExperiment</span><span class=\"p\">()</span>\n",
       "    <span class=\"n\">model</span> <span class=\"o\">=</span> <span class=\"n\">classifier</span><span class=\"o\">.</span><span class=\"n\">load_model</span><span class=\"p\">(</span><span class=\"s1\">&#39;pycaret_model&#39;</span><span class=\"p\">)</span>\n",
       "    <span class=\"n\">predictions</span> <span class=\"o\">=</span> <span class=\"n\">classifier</span><span class=\"o\">.</span><span class=\"n\">predict_model</span><span class=\"p\">(</span><span class=\"n\">model</span><span class=\"p\">,</span> <span class=\"n\">data</span><span class=\"o\">=</span><span class=\"n\">df</span><span class=\"p\">)</span>\n",
       "   <span class=\"c1\"># predictions.rename({&#39;Label&#39;: &#39;Churn_prediction&#39;}, axis=1, inplace=True)</span>\n",
       "   <span class=\"c1\"># predictions[&#39;Churn_prediction&#39;].replace({1: &#39;Yes&#39;, 0: &#39;No&#39;}, inplace=True)</span>\n",
       "    <span class=\"k\">return</span> <span class=\"n\">predictions</span> <span class=\"c1\">#[&#39;Churn_prediction&#39;]</span>\n",
       "\n",
       "\n",
       "<span class=\"k\">if</span> <span class=\"vm\">__name__</span> <span class=\"o\">==</span> <span class=\"s2\">&quot;__main__&quot;</span><span class=\"p\">:</span>\n",
       "    <span class=\"n\">df</span> <span class=\"o\">=</span> <span class=\"n\">load_data</span><span class=\"p\">(</span><span class=\"s1\">&#39;/Users/mackenziemcdermott/Desktop/SCHOOL/Intro to Data Science/Week 5/churn_data.csv&#39;</span><span class=\"p\">)</span>\n",
       "    <span class=\"n\">predictions</span> <span class=\"o\">=</span> <span class=\"n\">make_predictions</span><span class=\"p\">(</span><span class=\"n\">df</span><span class=\"p\">)</span>\n",
       "    <span class=\"nb\">print</span><span class=\"p\">(</span><span class=\"s1\">&#39;predictions:&#39;</span><span class=\"p\">)</span>\n",
       "    <span class=\"nb\">print</span><span class=\"p\">(</span><span class=\"n\">predictions</span><span class=\"p\">)</span>\n",
       "</pre></div>\n"
      ],
      "text/latex": [
       "\\begin{Verbatim}[commandchars=\\\\\\{\\}]\n",
       "\\PY{k+kn}{import} \\PY{n+nn}{pandas} \\PY{k}{as} \\PY{n+nn}{pd}\n",
       "\\PY{k+kn}{from} \\PY{n+nn}{pycaret}\\PY{n+nn}{.}\\PY{n+nn}{classification} \\PY{k+kn}{import} \\PY{n}{ClassificationExperiment}\n",
       "\n",
       "\\PY{k}{def} \\PY{n+nf}{load\\PYZus{}data}\\PY{p}{(}\\PY{n}{filepath}\\PY{p}{)}\\PY{p}{:}\n",
       "\\PY{+w}{    }\\PY{l+s+sd}{\\PYZdq{}\\PYZdq{}\\PYZdq{}}\n",
       "\\PY{l+s+sd}{    Loads churn data into a DataFrame from a string filepath.}\n",
       "\\PY{l+s+sd}{    \\PYZdq{}\\PYZdq{}\\PYZdq{}}\n",
       "    \\PY{n}{df} \\PY{o}{=} \\PY{n}{pd}\\PY{o}{.}\\PY{n}{read\\PYZus{}csv}\\PY{p}{(}\\PY{n}{filepath}\\PY{p}{,} \\PY{n}{index\\PYZus{}col}\\PY{o}{=}\\PY{l+s+s1}{\\PYZsq{}}\\PY{l+s+s1}{customerID}\\PY{l+s+s1}{\\PYZsq{}}\\PY{p}{)}\n",
       "    \\PY{k}{return} \\PY{n}{df}\n",
       "\n",
       "\n",
       "\\PY{k}{def} \\PY{n+nf}{make\\PYZus{}predictions}\\PY{p}{(}\\PY{n}{df}\\PY{p}{)}\\PY{p}{:}\n",
       "\\PY{+w}{    }\\PY{l+s+sd}{\\PYZdq{}\\PYZdq{}\\PYZdq{}}\n",
       "\\PY{l+s+sd}{    Uses the pycaret best model to make predictions on data in the df dataframe.}\n",
       "\\PY{l+s+sd}{    \\PYZdq{}\\PYZdq{}\\PYZdq{}}\n",
       "    \\PY{n}{classifier} \\PY{o}{=} \\PY{n}{ClassificationExperiment}\\PY{p}{(}\\PY{p}{)}\n",
       "    \\PY{n}{model} \\PY{o}{=} \\PY{n}{classifier}\\PY{o}{.}\\PY{n}{load\\PYZus{}model}\\PY{p}{(}\\PY{l+s+s1}{\\PYZsq{}}\\PY{l+s+s1}{pycaret\\PYZus{}model}\\PY{l+s+s1}{\\PYZsq{}}\\PY{p}{)}\n",
       "    \\PY{n}{predictions} \\PY{o}{=} \\PY{n}{classifier}\\PY{o}{.}\\PY{n}{predict\\PYZus{}model}\\PY{p}{(}\\PY{n}{model}\\PY{p}{,} \\PY{n}{data}\\PY{o}{=}\\PY{n}{df}\\PY{p}{)}\n",
       "   \\PY{c+c1}{\\PYZsh{} predictions.rename(\\PYZob{}\\PYZsq{}Label\\PYZsq{}: \\PYZsq{}Churn\\PYZus{}prediction\\PYZsq{}\\PYZcb{}, axis=1, inplace=True)}\n",
       "   \\PY{c+c1}{\\PYZsh{} predictions[\\PYZsq{}Churn\\PYZus{}prediction\\PYZsq{}].replace(\\PYZob{}1: \\PYZsq{}Yes\\PYZsq{}, 0: \\PYZsq{}No\\PYZsq{}\\PYZcb{}, inplace=True)}\n",
       "    \\PY{k}{return} \\PY{n}{predictions} \\PY{c+c1}{\\PYZsh{}[\\PYZsq{}Churn\\PYZus{}prediction\\PYZsq{}]}\n",
       "\n",
       "\n",
       "\\PY{k}{if} \\PY{n+nv+vm}{\\PYZus{}\\PYZus{}name\\PYZus{}\\PYZus{}} \\PY{o}{==} \\PY{l+s+s2}{\\PYZdq{}}\\PY{l+s+s2}{\\PYZus{}\\PYZus{}main\\PYZus{}\\PYZus{}}\\PY{l+s+s2}{\\PYZdq{}}\\PY{p}{:}\n",
       "    \\PY{n}{df} \\PY{o}{=} \\PY{n}{load\\PYZus{}data}\\PY{p}{(}\\PY{l+s+s1}{\\PYZsq{}}\\PY{l+s+s1}{/Users/mackenziemcdermott/Desktop/SCHOOL/Intro to Data Science/Week 5/churn\\PYZus{}data.csv}\\PY{l+s+s1}{\\PYZsq{}}\\PY{p}{)}\n",
       "    \\PY{n}{predictions} \\PY{o}{=} \\PY{n}{make\\PYZus{}predictions}\\PY{p}{(}\\PY{n}{df}\\PY{p}{)}\n",
       "    \\PY{n+nb}{print}\\PY{p}{(}\\PY{l+s+s1}{\\PYZsq{}}\\PY{l+s+s1}{predictions:}\\PY{l+s+s1}{\\PYZsq{}}\\PY{p}{)}\n",
       "    \\PY{n+nb}{print}\\PY{p}{(}\\PY{n}{predictions}\\PY{p}{)}\n",
       "\\end{Verbatim}\n"
      ],
      "text/plain": [
       "import pandas as pd\n",
       "from pycaret.classification import ClassificationExperiment\n",
       "\n",
       "def load_data(filepath):\n",
       "    \"\"\"\n",
       "    Loads churn data into a DataFrame from a string filepath.\n",
       "    \"\"\"\n",
       "    df = pd.read_csv(filepath, index_col='customerID')\n",
       "    return df\n",
       "\n",
       "\n",
       "def make_predictions(df):\n",
       "    \"\"\"\n",
       "    Uses the pycaret best model to make predictions on data in the df dataframe.\n",
       "    \"\"\"\n",
       "    classifier = ClassificationExperiment()\n",
       "    model = classifier.load_model('pycaret_model')\n",
       "    predictions = classifier.predict_model(model, data=df)\n",
       "   # predictions.rename({'Label': 'Churn_prediction'}, axis=1, inplace=True)\n",
       "   # predictions['Churn_prediction'].replace({1: 'Yes', 0: 'No'}, inplace=True)\n",
       "    return predictions #['Churn_prediction']\n",
       "\n",
       "\n",
       "if __name__ == \"__main__\":\n",
       "    df = load_data('/Users/mackenziemcdermott/Desktop/SCHOOL/Intro to Data Science/Week 5/churn_data.csv')\n",
       "    predictions = make_predictions(df)\n",
       "    print('predictions:')\n",
       "    print(predictions)"
      ]
     },
     "execution_count": 21,
     "metadata": {},
     "output_type": "execute_result"
    }
   ],
   "source": [
    "from IPython.display import Code\n",
    "\n",
    "Code('predict_churn.py')"
   ]
  },
  {
   "cell_type": "code",
   "execution_count": 22,
   "id": "e3255976",
   "metadata": {},
   "outputs": [
    {
     "name": "stdout",
     "output_type": "stream",
     "text": [
      "Transformation Pipeline and Model Successfully Loaded\n",
      "predictions:\n",
      "            tenure PhoneService        Contract              PaymentMethod  \\\n",
      "customerID                                                                   \n",
      "7590-VHVEG       1           No  Month-to-month           Electronic check   \n",
      "5575-GNVDE      34          Yes        One year               Mailed check   \n",
      "3668-QPYBK       2          Yes  Month-to-month               Mailed check   \n",
      "7795-CFOCW      45           No        One year  Bank transfer (automatic)   \n",
      "9237-HQITU       2          Yes  Month-to-month           Electronic check   \n",
      "...            ...          ...             ...                        ...   \n",
      "6840-RESVB      24          Yes        One year               Mailed check   \n",
      "2234-XADUH      72          Yes        One year    Credit card (automatic)   \n",
      "4801-JZAZL      11           No  Month-to-month           Electronic check   \n",
      "8361-LTMKD       4          Yes  Month-to-month               Mailed check   \n",
      "3186-AJIEK      66          Yes        Two year  Bank transfer (automatic)   \n",
      "\n",
      "            MonthlyCharges  TotalCharges  Churn prediction_label  \\\n",
      "customerID                                                         \n",
      "7590-VHVEG       29.850000     29.850000      0              Yes   \n",
      "5575-GNVDE       56.950001   1889.500000      0               No   \n",
      "3668-QPYBK       53.849998    108.150002      1               No   \n",
      "7795-CFOCW       42.299999   1840.750000      0               No   \n",
      "9237-HQITU       70.699997    151.649994      1              Yes   \n",
      "...                    ...           ...    ...              ...   \n",
      "6840-RESVB       84.800003   1990.500000      0               No   \n",
      "2234-XADUH      103.199997   7362.899902      0               No   \n",
      "4801-JZAZL       29.600000    346.450012      0               No   \n",
      "8361-LTMKD       74.400002    306.600006      1              Yes   \n",
      "3186-AJIEK      105.650002   6844.500000      0               No   \n",
      "\n",
      "            prediction_score  \n",
      "customerID                    \n",
      "7590-VHVEG            0.8403  \n",
      "5575-GNVDE            0.9454  \n",
      "3668-QPYBK            0.5985  \n",
      "7795-CFOCW            0.9053  \n",
      "9237-HQITU            0.5618  \n",
      "...                      ...  \n",
      "6840-RESVB            0.9165  \n",
      "2234-XADUH            0.9353  \n",
      "4801-JZAZL            0.6219  \n",
      "8361-LTMKD            0.5621  \n",
      "3186-AJIEK            0.9151  \n",
      "\n",
      "[7043 rows x 9 columns]\n"
     ]
    },
    {
     "data": {
      "text/plain": [
       "<Figure size 800x550 with 0 Axes>"
      ]
     },
     "metadata": {},
     "output_type": "display_data"
    }
   ],
   "source": [
    "%run predict_churn.py"
   ]
  },
  {
   "cell_type": "markdown",
   "id": "c49db562",
   "metadata": {},
   "source": [
    "# Summary"
   ]
  },
  {
   "cell_type": "markdown",
   "id": "9533a1cd",
   "metadata": {},
   "source": [
    "In this assignment, the primary objective was to determine the most effective machine learning algorithm for a given dataset using PyCaret. The process began with the loading of the churn dataset using pd.read_csv. PyCaret's ClassificationExperiment class played a central role in automating various aspects of the machine learning workflow. After initializing the experiment with automl, the dataset was set up for analysis with automl.setup(df, target=\"Churn\"). The model comparison step with automl.compare_models() identified the \"Radiant Boosting Classifier\" as the best-performing model with an accuracy of 0.7961. Further evaluation of this model included assessing feature importance and ROC curves using automl.evaluate_model(best_model). Predictions were made on specific data points, and a confusion matrix was generated to analyze true positives, true negatives, false positives, and false negatives. The best model was saved for future use with automl.save_model(best_model, 'pycaret_model') and subsequently loaded into a new experiment instance. Predictions on new data were made using the loaded model. The assignment concluded by displaying the code from predict_churn.py using Code('predict_churn.py') and executing the code with %run predict_churn.py, which revealed one false positive and one false negative among the observed model's predictions."
   ]
  }
 ],
 "metadata": {
  "kernelspec": {
   "display_name": "pycaret",
   "language": "python",
   "name": "pycaret"
  },
  "language_info": {
   "codemirror_mode": {
    "name": "ipython",
    "version": 3
   },
   "file_extension": ".py",
   "mimetype": "text/x-python",
   "name": "python",
   "nbconvert_exporter": "python",
   "pygments_lexer": "ipython3",
   "version": "3.10.13"
  }
 },
 "nbformat": 4,
 "nbformat_minor": 5
}
